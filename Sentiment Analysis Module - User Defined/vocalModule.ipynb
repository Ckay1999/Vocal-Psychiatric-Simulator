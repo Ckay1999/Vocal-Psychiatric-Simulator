{
 "cells": [
  {
   "cell_type": "markdown",
   "metadata": {},
   "source": [
    "## Vocal Module for the Sentiment Analysis Module"
   ]
  },
  {
   "cell_type": "markdown",
   "metadata": {},
   "source": [
    "### Importing libraries"
   ]
  },
  {
   "cell_type": "code",
   "execution_count": 1,
   "metadata": {},
   "outputs": [],
   "source": [
    "#for speech to text\n",
    "import speech_recognition as sr\n",
    "#for text to speech\n",
    "from win32com.client import Dispatch"
   ]
  },
  {
   "cell_type": "markdown",
   "metadata": {},
   "source": [
    "### Vocal_system class"
   ]
  },
  {
   "cell_type": "code",
   "execution_count": 4,
   "metadata": {},
   "outputs": [],
   "source": [
    "class vocal_system:\n",
    "    '''\n",
    "    @class : vocal_system\n",
    "    @Description : This class consists of all the functions used to give vocal input and hear the questions from the module\n",
    "    \n",
    "    @Number of functions : 2\n",
    "    \n",
    "    @Class variables : 1. device_index = system index of your input/output device\n",
    "                      \n",
    "    @Author : Anchit, Adit, Ankita, Chahat\n",
    "    '''\n",
    "    \n",
    "    ########################################################################################################\n",
    "    def __init__(self, device_index):\n",
    "        '''\n",
    "        @function name : __init__ \n",
    "        @Description : default function used to initialize class variables\n",
    "        \n",
    "        @Return : none\n",
    "        '''\n",
    "        \n",
    "        self.device_index = device_index\n",
    "        \n",
    "    \n",
    "    ########################################################################################################\n",
    "    def voice_to_text(self):\n",
    "        '''\n",
    "        @function name : voice_to_text\n",
    "        @Description : this function converts user's audio into text\n",
    "        \n",
    "        @Return : list with the sentence\n",
    "        '''\n",
    "        \n",
    "        s = []\n",
    "        r = sr.Recognizer()\n",
    "        mic = sr.Microphone(device_index=1)\n",
    "        with mic as source:\n",
    "            print(\"Begin speaking!\")\n",
    "            r.adjust_for_ambient_noise(source)\n",
    "            audio = r.listen(source)\n",
    "\n",
    "        # Speech recognition using Google Speech Recognition\n",
    "        try:\n",
    "            # for testing purposes, we're just using the default API key\n",
    "            # to use another API key, use `r.recognize_google(audio, key=\"GOOGLE_SPEECH_RECOGNITION_API_KEY\")`\n",
    "            # instead of `r.recognize_google(audio)`\n",
    "            sentence = r.recognize_google(audio)\n",
    "            print(\"YOUR REPLY : \" + sentence)\n",
    "            s.append(sentence)\n",
    "            return s\n",
    "        except sr.UnknownValueError:\n",
    "            print(\"Google Speech Recognition could not understand audio\")\n",
    "        except sr.RequestError as e:\n",
    "            print(\"Could not request results from Google Speech Recognition service; {0}\".format(e))\n",
    "            \n",
    "    \n",
    "    ########################################################################################################\n",
    "    def text_to_voice(self, ques):\n",
    "        '''\n",
    "        @function name : voice_to_text\n",
    "        @Description : this function converts user's audio into text\n",
    "        \n",
    "        @Return : none\n",
    "        '''\n",
    "        \n",
    "        speak = Dispatch('SAPI.SpVoice')\n",
    "        speak.Speak(ques)"
   ]
  },
  {
   "cell_type": "code",
   "execution_count": null,
   "metadata": {},
   "outputs": [],
   "source": []
  }
 ],
 "metadata": {
  "kernelspec": {
   "display_name": "Python 3",
   "language": "python",
   "name": "python3"
  },
  "language_info": {
   "codemirror_mode": {
    "name": "ipython",
    "version": 3
   },
   "file_extension": ".py",
   "mimetype": "text/x-python",
   "name": "python",
   "nbconvert_exporter": "python",
   "pygments_lexer": "ipython3",
   "version": "3.6.5"
  }
 },
 "nbformat": 4,
 "nbformat_minor": 4
}
