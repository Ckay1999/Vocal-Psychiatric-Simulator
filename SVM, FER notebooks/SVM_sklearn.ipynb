{
 "cells": [
  {
   "cell_type": "code",
   "execution_count": 1,
   "metadata": {},
   "outputs": [],
   "source": [
    "import import_ipynb\n",
    "import numpy as np\n",
    "import pandas as pd\n",
    "import matplotlib.pyplot as plt\n",
    "# Use Matplotlib in jupyter\n",
    "%matplotlib inline"
   ]
  },
  {
   "cell_type": "markdown",
   "metadata": {},
   "source": [
    "### Importing the user-defined SVM  and VoiceModule classes \n",
    "**Authors :** Anchit Gupta, Adit Gupta, Ankita, Chahat Kalra"
   ]
  },
  {
   "cell_type": "code",
   "execution_count": 2,
   "metadata": {},
   "outputs": [
    {
     "name": "stdout",
     "output_type": "stream",
     "text": [
      "importing Jupyter notebook from svmClassifier_Final.ipynb\n",
      "importing Jupyter notebook from vocalModule_Final.ipynb\n"
     ]
    }
   ],
   "source": [
    "import svmClassifier_Final as svm\n",
    "import vocalModule_Final as vm"
   ]
  },
  {
   "cell_type": "markdown",
   "metadata": {},
   "source": [
    "### Loading training data\n",
    "#### - includes PREPROCESSING and VECTORIZATION\n"
   ]
  },
  {
   "cell_type": "code",
   "execution_count": 3,
   "metadata": {},
   "outputs": [],
   "source": [
    "# train_data\n",
    "data = pd.read_csv(\"train_dataset.csv\")\n",
    "# shuffle dataset\n",
    "Data = data.sample(frac=1)"
   ]
  },
  {
   "cell_type": "code",
   "execution_count": 4,
   "metadata": {},
   "outputs": [],
   "source": [
    "# splitting train_data into X and Y\n",
    "X_data = Data['Content']\n",
    "Y_data = Data['Label']"
   ]
  },
  {
   "cell_type": "code",
   "execution_count": 5,
   "metadata": {},
   "outputs": [],
   "source": [
    "from sklearn.feature_extraction.text import CountVectorizer\n",
    "\n",
    "# create the transform\n",
    "vectorizer = CountVectorizer()\n",
    "# tokenize and build vocab\n",
    "vectorizer.fit(X_data)\n",
    "# encode document\n",
    "train_vectors = vectorizer.transform(X_data)\n",
    "\n",
    "# converting dataframe into numpy array\n",
    "X = train_vectors.toarray()\n",
    "Y= Y_data.to_numpy()"
   ]
  },
  {
   "cell_type": "code",
   "execution_count": 6,
   "metadata": {},
   "outputs": [],
   "source": [
    "from sklearn.model_selection import train_test_split\n",
    "X_train, X_test, Y_train, Y_test = train_test_split(X,Y,test_size=0.2)"
   ]
  },
  {
   "cell_type": "code",
   "execution_count": 7,
   "metadata": {},
   "outputs": [],
   "source": [
    "from sklearn import svm\n",
    "from sklearn.metrics import accuracy_score"
   ]
  },
  {
   "cell_type": "code",
   "execution_count": 8,
   "metadata": {},
   "outputs": [
    {
     "data": {
      "text/plain": [
       "SVC(C=0.1, break_ties=False, cache_size=200, class_weight=None, coef0=0.0,\n",
       "    decision_function_shape='ovr', degree=3, gamma='auto', kernel='linear',\n",
       "    max_iter=-1, probability=False, random_state=None, shrinking=True,\n",
       "    tol=0.001, verbose=False)"
      ]
     },
     "execution_count": 8,
     "metadata": {},
     "output_type": "execute_result"
    }
   ],
   "source": [
    "svm_clf = svm.SVC(kernel = 'linear', C = 0.1, gamma='auto')\n",
    "\n",
    "# Create an instance of SVM Classifier and fit the data.\n",
    "svm_clf.fit(X, Y)"
   ]
  },
  {
   "cell_type": "code",
   "execution_count": 9,
   "metadata": {},
   "outputs": [
    {
     "data": {
      "text/plain": [
       "0.90625"
      ]
     },
     "execution_count": 9,
     "metadata": {},
     "output_type": "execute_result"
    }
   ],
   "source": [
    "y_p = svm_clf.predict(X_test)\n",
    "    \n",
    "accuracy_score(Y_test, y_p)"
   ]
  },
  {
   "cell_type": "code",
   "execution_count": 10,
   "metadata": {},
   "outputs": [],
   "source": [
    "import pickle"
   ]
  },
  {
   "cell_type": "code",
   "execution_count": 11,
   "metadata": {},
   "outputs": [],
   "source": [
    "pickle.dump(svm_clf, open('svm_SK.sav', 'wb'))"
   ]
  },
  {
   "cell_type": "code",
   "execution_count": 12,
   "metadata": {},
   "outputs": [],
   "source": [
    "def padding(X, x):\n",
    "        '''\n",
    "        @function name : padding\n",
    "        @Description : this function is used to add padding to the data tuples for dot-product compatibility\n",
    "\n",
    "        @Return : padded numpy array\n",
    "        '''\n",
    "        rX, cX = X.shape\n",
    "        rx, cx = x.shape\n",
    "        xLIST = x.tolist()\n",
    "\n",
    "        for i in range(0, rx):\n",
    "            for j in range(0, (cX - cx)):\n",
    "                xLIST[i].append(0.0)\n",
    "        \n",
    "        return np.array(xLIST)"
   ]
  },
  {
   "cell_type": "markdown",
   "metadata": {},
   "source": [
    "### Question Set"
   ]
  },
  {
   "cell_type": "code",
   "execution_count": 13,
   "metadata": {},
   "outputs": [],
   "source": [
    "questions = ['How is your mood most of the time?',\n",
    "             'Is there any fluctuation in the mood?',\n",
    "             'How is your sleep? What is the pattern of sleep? Any difficulty in falling asleep or in getting up?',\n",
    "             'Do you feel difficulty in concentration?',\n",
    "             'Do you feel low or active most of the time?',\n",
    "             'Do you feel uneasy or restless?',\n",
    "             'How is your appetite? Do you have decreased or increased feeling of eating?',\n",
    "             'How is your orientation towards sex? Interest in sex decreases?',\n",
    "             'Are you losing interest in day to day activities?',\n",
    "             'Do you see any variation in your weight?'\n",
    "             'How would you rate this conversation? How helpful was it?']"
   ]
  },
  {
   "cell_type": "markdown",
   "metadata": {},
   "source": [
    "### Using the Voice Module to interact with the user"
   ]
  },
  {
   "cell_type": "markdown",
   "metadata": {},
   "source": [
    "#### - Creating object of voiceModule class"
   ]
  },
  {
   "cell_type": "code",
   "execution_count": 14,
   "metadata": {},
   "outputs": [],
   "source": [
    "vocalMod = vm.vocal_system(device_index=1)"
   ]
  },
  {
   "cell_type": "markdown",
   "metadata": {},
   "source": [
    "#### - user interaction (Question - Answer)"
   ]
  },
  {
   "cell_type": "code",
   "execution_count": 16,
   "metadata": {
    "scrolled": true
   },
   "outputs": [
    {
     "name": "stdout",
     "output_type": "stream",
     "text": [
      "QUESTION 1 : How is your mood most of the time?\n",
      "Begin speaking!\n",
      "YOUR REPLY : the time I have a very bad mood I am irritated and Angry all the time I Yell at people for no reason\n",
      "[-1]\n",
      "----------------------------------------------------------------------------------------------------\n",
      "QUESTION 2 : Is there any fluctuation in the mood?\n",
      "Begin speaking!\n",
      "YOUR REPLY : fluctuations in the mood one moment I would be happy and then something would happen and it would change my mood completely\n",
      "[1]\n",
      "----------------------------------------------------------------------------------------------------\n",
      "QUESTION 3 : How is your sleep? What is the pattern of sleep? Any difficulty in falling asleep or in getting up?\n",
      "Begin speaking!\n",
      "YOUR REPLY : is not at all good I wake up really late in the morning as a sleep also very late I have a lot of difficulties in falling asleep and I don't get proper sleep as well\n",
      "[-1]\n",
      "----------------------------------------------------------------------------------------------------\n",
      "QUESTION 4 : Do you feel difficulty in concentration?\n",
      "Begin speaking!\n",
      "YOUR REPLY : difficult for me to concentrate on things for long period of time I get distracted very easily and cannot concentrate properly\n",
      "[1]\n",
      "----------------------------------------------------------------------------------------------------\n",
      "QUESTION 5 : Do you feel low or active most of the time?\n",
      "Begin speaking!\n",
      "YOUR REPLY : most of the time I feel very active I go out and play some other physical Sport with my friends and then workout at home\n",
      "[1]\n",
      "----------------------------------------------------------------------------------------------------\n",
      "QUESTION 6 : Do you feel uneasy or restless?\n",
      "Begin speaking!\n",
      "YOUR REPLY : yes I am restless and uneasy all the time when I am not doing anything I need to be engaged in something or it makes me anxious\n",
      "[-1]\n",
      "----------------------------------------------------------------------------------------------------\n",
      "QUESTION 7 : How is your appetite? Do you have decreased or increased feeling of eating?\n",
      "Begin speaking!\n",
      "YOUR REPLY : my appetite is not at all good I have an increased feeling of eating when I am anxious eat and healthy food and it is affecting my health in a bad way\n",
      "[-1]\n",
      "----------------------------------------------------------------------------------------------------\n",
      "QUESTION 8 : How is your orientation towards sex? Interest in sex decreases?\n",
      "Begin speaking!\n",
      "YOUR REPLY : is interest in sex is decreasing and I am really worried about my sexual orientation\n",
      "[-1]\n",
      "----------------------------------------------------------------------------------------------------\n",
      "QUESTION 9 : Are you losing interest in day to day activities?\n",
      "Begin speaking!\n",
      "YOUR REPLY : yes nothing seems to interest me these days and I am losing interest in day to day activities\n",
      "[-1]\n",
      "----------------------------------------------------------------------------------------------------\n",
      "QUESTION 10 : Do you see any variation in your weight?How would you rate this conversation? How helpful was it?\n",
      "Begin speaking!\n",
      "YOUR REPLY : helpful I would rate it 8 out of 10 I need help\n",
      "[1]\n",
      "----------------------------------------------------------------------------------------------------\n"
     ]
    }
   ],
   "source": [
    "for i, v in enumerate(questions, start = 1):\n",
    "    print('QUESTION ' + str(i) + ' : ' + v)\n",
    "    vocalMod.text_to_voice(v)\n",
    "    sentence = vocalMod.voice_to_text()\n",
    "    #print(sentence)\n",
    "    xxx_t = sentence\n",
    "    #xxx_t = np.array(xx_t)\n",
    "    #print(xxx_t.shape)\n",
    "    \n",
    "    # create the transform\n",
    "    vectorizer = CountVectorizer()\n",
    "    # tokenize and build vocab\n",
    "    vectorizer.fit(X_data)\n",
    "    # encode document\n",
    "    test_vectors = vectorizer.transform(xxx_t)\n",
    "    # converting dataframe into numpy array\n",
    "    xx_t = test_vectors.toarray()\n",
    "    \n",
    "    #padding the test data to perform correct dot-product\n",
    "    #x_p = padding(X, xx_t)\n",
    "    #print(x_p.shape)\n",
    "    #predicting the labels\n",
    "    Y_pred = svm_clf.predict(xx_t)\n",
    "    #print(sentence)\n",
    "    print(Y_pred)\n",
    "     \n",
    "    print('----------------------------------------------------------------------------------------------------')"
   ]
  }
 ],
 "metadata": {
  "kernelspec": {
   "display_name": "Python 3",
   "language": "python",
   "name": "python3"
  },
  "language_info": {
   "codemirror_mode": {
    "name": "ipython",
    "version": 3
   },
   "file_extension": ".py",
   "mimetype": "text/x-python",
   "name": "python",
   "nbconvert_exporter": "python",
   "pygments_lexer": "ipython3",
   "version": "3.6.10"
  }
 },
 "nbformat": 4,
 "nbformat_minor": 4
}
